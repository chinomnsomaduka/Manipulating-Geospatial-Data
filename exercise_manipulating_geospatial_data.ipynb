{
  "nbformat": 4,
  "nbformat_minor": 0,
  "metadata": {
    "kernelspec": {
      "display_name": "Python 3",
      "language": "python",
      "name": "python3"
    },
    "language_info": {
      "name": "python",
      "version": "3.7.10",
      "mimetype": "text/x-python",
      "codemirror_mode": {
        "name": "ipython",
        "version": 3
      },
      "pygments_lexer": "ipython3",
      "nbconvert_exporter": "python",
      "file_extension": ".py"
    },
    "colab": {
      "name": "exercise-manipulating-geospatial-data.ipynb",
      "provenance": []
    }
  },
  "cells": [
    {
      "cell_type": "markdown",
      "metadata": {
        "id": "e3mVSTFWRyVX"
      },
      "source": [
        "**This notebook is an exercise in the [Geospatial Analysis](https://www.kaggle.com/learn/geospatial-analysis) course.  You can reference the tutorial at [this link](https://www.kaggle.com/alexisbcook/manipulating-geospatial-data).**\n",
        "\n",
        "---\n"
      ]
    },
    {
      "cell_type": "markdown",
      "metadata": {
        "id": "LITI6J01RyVe"
      },
      "source": [
        "# Introduction\n",
        "\n",
        "You are a Starbucks big data analyst ([that’s a real job!](https://www.forbes.com/sites/bernardmarr/2018/05/28/starbucks-using-big-data-analytics-and-artificial-intelligence-to-boost-performance/#130c7d765cdc)) looking to find the next store into a [Starbucks Reserve Roastery](https://www.businessinsider.com/starbucks-reserve-roastery-compared-regular-starbucks-2018-12#also-on-the-first-floor-was-the-main-coffee-bar-five-hourglass-like-units-hold-the-freshly-roasted-coffee-beans-that-are-used-in-each-order-the-selection-rotates-seasonally-5).  These roasteries are much larger than a typical Starbucks store and have several additional features, including various food and wine options, along with upscale lounge areas.  You'll investigate the demographics of various counties in the state of California, to determine potentially suitable locations.\n",
        "\n",
        "<center>\n",
        "<img src=\"https://i.imgur.com/BIyE6kR.png\" width=\"450\"><br/><br/>\n",
        "</center>\n",
        "\n",
        "Before you get started, run the code cell below to set everything up."
      ]
    },
    {
      "cell_type": "code",
      "metadata": {
        "execution": {
          "iopub.status.busy": "2021-08-19T02:22:07.058182Z",
          "iopub.execute_input": "2021-08-19T02:22:07.058561Z",
          "iopub.status.idle": "2021-08-19T02:22:07.064711Z",
          "shell.execute_reply.started": "2021-08-19T02:22:07.058516Z",
          "shell.execute_reply": "2021-08-19T02:22:07.063656Z"
        },
        "trusted": true,
        "id": "oT8KDLdKRyVg"
      },
      "source": [
        "import math\n",
        "import pandas as pd\n",
        "import geopandas as gpd\n",
        "#from geopandas.tools import geocode            \n",
        "from learntools.geospatial.tools import geocode \n",
        "\n",
        "import folium \n",
        "from folium import Marker\n",
        "from folium.plugins import MarkerCluster"
      ],
      "execution_count": null,
      "outputs": []
    },
    {
      "cell_type": "markdown",
      "metadata": {
        "id": "TAmyzykARyVi"
      },
      "source": [
        "You'll use the `embed_map()` function from the previous exercise to visualize your maps."
      ]
    },
    {
      "cell_type": "code",
      "metadata": {
        "execution": {
          "iopub.status.busy": "2021-08-19T02:22:07.066305Z",
          "iopub.execute_input": "2021-08-19T02:22:07.066623Z",
          "iopub.status.idle": "2021-08-19T02:22:07.078629Z",
          "shell.execute_reply.started": "2021-08-19T02:22:07.066592Z",
          "shell.execute_reply": "2021-08-19T02:22:07.077493Z"
        },
        "trusted": true,
        "id": "AjZu7o3bRyVj"
      },
      "source": [
        "def embed_map(m, file_name):\n",
        "    from IPython.display import IFrame\n",
        "    m.save(file_name)\n",
        "    return IFrame(file_name, width='100%', height='500px')"
      ],
      "execution_count": null,
      "outputs": []
    },
    {
      "cell_type": "markdown",
      "metadata": {
        "id": "bBV1bqsORyVj"
      },
      "source": [
        "# Exercises\n",
        "\n",
        "### 1) Geocode the missing locations.\n",
        "\n",
        "Run the next code cell to create a DataFrame `starbucks` containing Starbucks locations in the state of California."
      ]
    },
    {
      "cell_type": "code",
      "metadata": {
        "execution": {
          "iopub.status.busy": "2021-08-19T02:22:07.080044Z",
          "iopub.execute_input": "2021-08-19T02:22:07.080495Z",
          "iopub.status.idle": "2021-08-19T02:22:07.121864Z",
          "shell.execute_reply.started": "2021-08-19T02:22:07.080450Z",
          "shell.execute_reply": "2021-08-19T02:22:07.120697Z"
        },
        "trusted": true,
        "id": "NE32O1_bRyVk",
        "outputId": "02c66393-2717-40bd-9037-150728386bf7"
      },
      "source": [
        "# Load and preview Starbucks locations in California\n",
        "starbucks = pd.read_csv(\"../input/geospatial-learn-course-data/starbucks_locations.csv\")\n",
        "starbucks.head()"
      ],
      "execution_count": null,
      "outputs": [
        {
          "execution_count": 31,
          "output_type": "execute_result",
          "data": {
            "text/plain": "   Store Number               Store Name  \\\n0  10429-100710       Palmdale & Hwy 395   \n1       635-352    Kanan & Thousand Oaks   \n2   74510-27669  Vons-Agoura Hills #2001   \n3  29839-255026    Target Anaheim T-0677   \n4  23463-230284   Safeway - Alameda 3281   \n\n                                   Address          City  Longitude  Latitude  \n0             14136 US Hwy 395 Adelanto CA      Adelanto    -117.40     34.51  \n1                5827 Kanan Road Agoura CA        Agoura    -118.76     34.16  \n2           5671 Kanan Rd. Agoura Hills CA  Agoura Hills    -118.76     34.15  \n3  8148 E SANTA ANA CANYON ROAD AHAHEIM CA       AHAHEIM    -117.75     33.87  \n4               2600 5th Street Alameda CA       Alameda    -122.28     37.79  ",
            "text/html": "<div>\n<style scoped>\n    .dataframe tbody tr th:only-of-type {\n        vertical-align: middle;\n    }\n\n    .dataframe tbody tr th {\n        vertical-align: top;\n    }\n\n    .dataframe thead th {\n        text-align: right;\n    }\n</style>\n<table border=\"1\" class=\"dataframe\">\n  <thead>\n    <tr style=\"text-align: right;\">\n      <th></th>\n      <th>Store Number</th>\n      <th>Store Name</th>\n      <th>Address</th>\n      <th>City</th>\n      <th>Longitude</th>\n      <th>Latitude</th>\n    </tr>\n  </thead>\n  <tbody>\n    <tr>\n      <th>0</th>\n      <td>10429-100710</td>\n      <td>Palmdale &amp; Hwy 395</td>\n      <td>14136 US Hwy 395 Adelanto CA</td>\n      <td>Adelanto</td>\n      <td>-117.40</td>\n      <td>34.51</td>\n    </tr>\n    <tr>\n      <th>1</th>\n      <td>635-352</td>\n      <td>Kanan &amp; Thousand Oaks</td>\n      <td>5827 Kanan Road Agoura CA</td>\n      <td>Agoura</td>\n      <td>-118.76</td>\n      <td>34.16</td>\n    </tr>\n    <tr>\n      <th>2</th>\n      <td>74510-27669</td>\n      <td>Vons-Agoura Hills #2001</td>\n      <td>5671 Kanan Rd. Agoura Hills CA</td>\n      <td>Agoura Hills</td>\n      <td>-118.76</td>\n      <td>34.15</td>\n    </tr>\n    <tr>\n      <th>3</th>\n      <td>29839-255026</td>\n      <td>Target Anaheim T-0677</td>\n      <td>8148 E SANTA ANA CANYON ROAD AHAHEIM CA</td>\n      <td>AHAHEIM</td>\n      <td>-117.75</td>\n      <td>33.87</td>\n    </tr>\n    <tr>\n      <th>4</th>\n      <td>23463-230284</td>\n      <td>Safeway - Alameda 3281</td>\n      <td>2600 5th Street Alameda CA</td>\n      <td>Alameda</td>\n      <td>-122.28</td>\n      <td>37.79</td>\n    </tr>\n  </tbody>\n</table>\n</div>"
          },
          "metadata": {}
        }
      ]
    },
    {
      "cell_type": "markdown",
      "metadata": {
        "id": "3B3dOiHfRyVm"
      },
      "source": [
        "Most of the stores have known (latitude, longitude) locations.  But, all of the locations in the city of Berkeley are missing."
      ]
    },
    {
      "cell_type": "code",
      "metadata": {
        "execution": {
          "iopub.status.busy": "2021-08-19T02:22:07.123446Z",
          "iopub.execute_input": "2021-08-19T02:22:07.123813Z",
          "iopub.status.idle": "2021-08-19T02:22:07.144936Z",
          "shell.execute_reply.started": "2021-08-19T02:22:07.123774Z",
          "shell.execute_reply": "2021-08-19T02:22:07.143588Z"
        },
        "trusted": true,
        "id": "LVp3h1H4RyVm",
        "outputId": "c20802b0-3da1-4bfa-8292-e9491a32dfb4"
      },
      "source": [
        "# How many rows in each column have missing values?\n",
        "print(starbucks.isnull().sum())\n",
        "\n",
        "# View rows with missing locations\n",
        "rows_with_missing = starbucks[starbucks[\"City\"]==\"Berkeley\"]\n",
        "rows_with_missing"
      ],
      "execution_count": null,
      "outputs": [
        {
          "name": "stdout",
          "text": "Store Number    0\nStore Name      0\nAddress         0\nCity            0\nLongitude       5\nLatitude        5\ndtype: int64\n",
          "output_type": "stream"
        },
        {
          "execution_count": 32,
          "output_type": "execute_result",
          "data": {
            "text/plain": "     Store Number                Store Name  \\\n153      5406-945  2224 Shattuck - Berkeley   \n154       570-512                Solano Ave   \n155  17877-164526   Safeway - Berkeley #691   \n156  19864-202264         Telegraph & Ashby   \n157     9217-9253           2128 Oxford St.   \n\n                               Address      City  Longitude  Latitude  \n153   2224 Shattuck Avenue Berkeley CA  Berkeley        NaN       NaN  \n154     1799 Solano Avenue Berkeley CA  Berkeley        NaN       NaN  \n155    1444 Shattuck Place Berkeley CA  Berkeley        NaN       NaN  \n156  3001 Telegraph Avenue Berkeley CA  Berkeley        NaN       NaN  \n157     2128 Oxford Street Berkeley CA  Berkeley        NaN       NaN  ",
            "text/html": "<div>\n<style scoped>\n    .dataframe tbody tr th:only-of-type {\n        vertical-align: middle;\n    }\n\n    .dataframe tbody tr th {\n        vertical-align: top;\n    }\n\n    .dataframe thead th {\n        text-align: right;\n    }\n</style>\n<table border=\"1\" class=\"dataframe\">\n  <thead>\n    <tr style=\"text-align: right;\">\n      <th></th>\n      <th>Store Number</th>\n      <th>Store Name</th>\n      <th>Address</th>\n      <th>City</th>\n      <th>Longitude</th>\n      <th>Latitude</th>\n    </tr>\n  </thead>\n  <tbody>\n    <tr>\n      <th>153</th>\n      <td>5406-945</td>\n      <td>2224 Shattuck - Berkeley</td>\n      <td>2224 Shattuck Avenue Berkeley CA</td>\n      <td>Berkeley</td>\n      <td>NaN</td>\n      <td>NaN</td>\n    </tr>\n    <tr>\n      <th>154</th>\n      <td>570-512</td>\n      <td>Solano Ave</td>\n      <td>1799 Solano Avenue Berkeley CA</td>\n      <td>Berkeley</td>\n      <td>NaN</td>\n      <td>NaN</td>\n    </tr>\n    <tr>\n      <th>155</th>\n      <td>17877-164526</td>\n      <td>Safeway - Berkeley #691</td>\n      <td>1444 Shattuck Place Berkeley CA</td>\n      <td>Berkeley</td>\n      <td>NaN</td>\n      <td>NaN</td>\n    </tr>\n    <tr>\n      <th>156</th>\n      <td>19864-202264</td>\n      <td>Telegraph &amp; Ashby</td>\n      <td>3001 Telegraph Avenue Berkeley CA</td>\n      <td>Berkeley</td>\n      <td>NaN</td>\n      <td>NaN</td>\n    </tr>\n    <tr>\n      <th>157</th>\n      <td>9217-9253</td>\n      <td>2128 Oxford St.</td>\n      <td>2128 Oxford Street Berkeley CA</td>\n      <td>Berkeley</td>\n      <td>NaN</td>\n      <td>NaN</td>\n    </tr>\n  </tbody>\n</table>\n</div>"
          },
          "metadata": {}
        }
      ]
    },
    {
      "cell_type": "markdown",
      "metadata": {
        "id": "XPdydgKpRyVp"
      },
      "source": [
        "Use the code cell below to fill in these values with the OpenStreetMap Nominatim geocoder.\n",
        "\n",
        "Note that in the tutorial, we used `geocode()` (from `geopandas.tools`) to geocode values, and this is what you can use in your own projects outside of this micro-course.  \n",
        "\n",
        "In this exercise, you will use a slightly different function `geocode()` (from `learntools.geospatial.tools`).  This function was imported at the top of the notebook and works identically to the function from GeoPandas.\n",
        "\n",
        "So, in other words, as long as: \n",
        "- you don't change the import statements at the top of the notebook, and \n",
        "- you call the geocoding function as `geocode()` in the code cell below, \n",
        "\n",
        "your code will work as intended!"
      ]
    },
    {
      "cell_type": "code",
      "metadata": {
        "execution": {
          "iopub.status.busy": "2021-08-19T02:22:07.146264Z",
          "iopub.execute_input": "2021-08-19T02:22:07.146651Z",
          "iopub.status.idle": "2021-08-19T02:22:07.368705Z",
          "shell.execute_reply.started": "2021-08-19T02:22:07.146615Z",
          "shell.execute_reply": "2021-08-19T02:22:07.367946Z"
        },
        "trusted": true,
        "id": "Ye07oNhjRyVp",
        "outputId": "88d903cc-02af-4f11-d302-03cdfae2c71c"
      },
      "source": [
        "def my_geocoder(row):\n",
        "    point = geocode(row, provider='nominatim').geometry[0]\n",
        "    return pd.Series({'Longitude': point.x, 'Latitude': point.y})\n",
        "\n",
        "berkeley_locations = rows_with_missing.apply(lambda x: my_geocoder(x['Address']), axis=1)\n",
        "starbucks.update(berkeley_locations)"
      ],
      "execution_count": null,
      "outputs": [
        {
          "output_type": "display_data",
          "data": {
            "text/plain": "<IPython.core.display.Javascript object>",
            "application/javascript": "parent.postMessage({\"jupyterEvent\": \"custom.exercise_interaction\", \"data\": {\"outcomeType\": 1, \"valueTowardsCompletion\": 0.2, \"interactionType\": 1, \"questionType\": 2, \"questionId\": \"1_Q1\", \"learnToolsVersion\": \"0.3.4\", \"failureMessage\": \"\", \"exceptionClass\": \"\", \"trace\": \"\"}}, \"*\")"
          },
          "metadata": {}
        },
        {
          "output_type": "display_data",
          "data": {
            "text/plain": "Correct",
            "text/markdown": "<span style=\"color:#33cc33\">Correct</span>"
          },
          "metadata": {}
        }
      ]
    },
    {
      "cell_type": "markdown",
      "metadata": {
        "id": "1pQtVzgsRyVt"
      },
      "source": [
        "### 2) View Berkeley locations.\n",
        "\n",
        "Let's take a look at the locations you just found.  Visualize the (latitude, longitude) locations in Berkeley in the OpenStreetMap style. "
      ]
    },
    {
      "cell_type": "code",
      "metadata": {
        "execution": {
          "iopub.status.busy": "2021-08-19T02:22:07.376449Z",
          "iopub.execute_input": "2021-08-19T02:22:07.376983Z",
          "iopub.status.idle": "2021-08-19T02:22:07.406010Z",
          "shell.execute_reply.started": "2021-08-19T02:22:07.376952Z",
          "shell.execute_reply": "2021-08-19T02:22:07.404500Z"
        },
        "trusted": true,
        "id": "L3y6pnkYRyVu",
        "outputId": "c4819d5f-c166-48b9-836f-08d861794ca8"
      },
      "source": [
        "# Create a base map\n",
        "m_2 = folium.Map(location=[37.88,-122.26], zoom_start=13)\n",
        "\n",
        "# Add a marker for each Berkeley location\n",
        "# Add a marker for each Berkeley location\n",
        "for idx, row in starbucks[starbucks[\"City\"]=='Berkeley'].iterrows():\n",
        "    Marker([row['Latitude'], row['Longitude']]).add_to(m_2)\n",
        "\n",
        "# Show the map\n",
        "embed_map(m_2, 'q_2.html')"
      ],
      "execution_count": null,
      "outputs": [
        {
          "execution_count": 35,
          "output_type": "execute_result",
          "data": {
            "text/plain": "<IPython.lib.display.IFrame at 0x7f8d42171450>",
            "text/html": "\n        <iframe\n            width=\"100%\"\n            height=\"500px\"\n            src=\"q_2.html\"\n            frameborder=\"0\"\n            allowfullscreen\n        ></iframe>\n        "
          },
          "metadata": {}
        }
      ]
    },
    {
      "cell_type": "markdown",
      "metadata": {
        "id": "TSCsABKsRyVv"
      },
      "source": [
        "Considering only the five locations in Berkeley, how many of the (latitude, longitude) locations seem potentially correct (are located in the correct city)?"
      ]
    },
    {
      "cell_type": "markdown",
      "metadata": {
        "id": "_qiNlCEYRyVv"
      },
      "source": [
        "### 3) Consolidate your data.\n",
        "\n",
        "Run the code below to load a GeoDataFrame `CA_counties` containing the name, area (in square kilometers), and a unique id (in the \"GEOID\" column) for each county in the state of California.  The \"geometry\" column contains a polygon with county boundaries."
      ]
    },
    {
      "cell_type": "code",
      "metadata": {
        "execution": {
          "iopub.status.busy": "2021-08-19T02:22:07.436456Z",
          "iopub.execute_input": "2021-08-19T02:22:07.436804Z",
          "iopub.status.idle": "2021-08-19T02:22:07.724803Z",
          "shell.execute_reply.started": "2021-08-19T02:22:07.436774Z",
          "shell.execute_reply": "2021-08-19T02:22:07.723712Z"
        },
        "trusted": true,
        "id": "J30unAqtRyVv",
        "outputId": "c53dcb5b-a34f-409f-948a-92f9fd93e51a"
      },
      "source": [
        "CA_counties = gpd.read_file(\"../input/geospatial-learn-course-data/CA_county_boundaries/CA_county_boundaries/CA_county_boundaries.shp\")\n",
        "CA_counties.head()"
      ],
      "execution_count": null,
      "outputs": [
        {
          "execution_count": 38,
          "output_type": "execute_result",
          "data": {
            "text/plain": "   GEOID                  name    area_sqkm  \\\n0   6091         Sierra County  2491.995494   \n1   6067     Sacramento County  2575.258262   \n2   6083  Santa Barbara County  9813.817958   \n3   6009      Calaveras County  2685.626726   \n4   6111        Ventura County  5719.321379   \n\n                                            geometry  \n0  POLYGON ((-120.65560 39.69357, -120.65554 39.6...  \n1  POLYGON ((-121.18858 38.71431, -121.18732 38.7...  \n2  MULTIPOLYGON (((-120.58191 34.09856, -120.5822...  \n3  POLYGON ((-120.63095 38.34111, -120.63058 38.3...  \n4  MULTIPOLYGON (((-119.63631 33.27304, -119.6360...  ",
            "text/html": "<div>\n<style scoped>\n    .dataframe tbody tr th:only-of-type {\n        vertical-align: middle;\n    }\n\n    .dataframe tbody tr th {\n        vertical-align: top;\n    }\n\n    .dataframe thead th {\n        text-align: right;\n    }\n</style>\n<table border=\"1\" class=\"dataframe\">\n  <thead>\n    <tr style=\"text-align: right;\">\n      <th></th>\n      <th>GEOID</th>\n      <th>name</th>\n      <th>area_sqkm</th>\n      <th>geometry</th>\n    </tr>\n  </thead>\n  <tbody>\n    <tr>\n      <th>0</th>\n      <td>6091</td>\n      <td>Sierra County</td>\n      <td>2491.995494</td>\n      <td>POLYGON ((-120.65560 39.69357, -120.65554 39.6...</td>\n    </tr>\n    <tr>\n      <th>1</th>\n      <td>6067</td>\n      <td>Sacramento County</td>\n      <td>2575.258262</td>\n      <td>POLYGON ((-121.18858 38.71431, -121.18732 38.7...</td>\n    </tr>\n    <tr>\n      <th>2</th>\n      <td>6083</td>\n      <td>Santa Barbara County</td>\n      <td>9813.817958</td>\n      <td>MULTIPOLYGON (((-120.58191 34.09856, -120.5822...</td>\n    </tr>\n    <tr>\n      <th>3</th>\n      <td>6009</td>\n      <td>Calaveras County</td>\n      <td>2685.626726</td>\n      <td>POLYGON ((-120.63095 38.34111, -120.63058 38.3...</td>\n    </tr>\n    <tr>\n      <th>4</th>\n      <td>6111</td>\n      <td>Ventura County</td>\n      <td>5719.321379</td>\n      <td>MULTIPOLYGON (((-119.63631 33.27304, -119.6360...</td>\n    </tr>\n  </tbody>\n</table>\n</div>"
          },
          "metadata": {}
        }
      ]
    },
    {
      "cell_type": "markdown",
      "metadata": {
        "id": "ZdLrG26PRyVx"
      },
      "source": [
        "Next, we create three DataFrames:\n",
        "- `CA_pop` contains an estimate of the population of each county.\n",
        "- `CA_high_earners` contains the number of households with an income of at least $150,000 per year.\n",
        "- `CA_median_age` contains the median age for each county."
      ]
    },
    {
      "cell_type": "code",
      "metadata": {
        "execution": {
          "iopub.status.busy": "2021-08-19T02:22:07.728388Z",
          "iopub.execute_input": "2021-08-19T02:22:07.728852Z",
          "iopub.status.idle": "2021-08-19T02:22:07.742004Z",
          "shell.execute_reply.started": "2021-08-19T02:22:07.728818Z",
          "shell.execute_reply": "2021-08-19T02:22:07.741253Z"
        },
        "trusted": true,
        "id": "RkL3G--KRyVx"
      },
      "source": [
        "CA_pop = pd.read_csv(\"../input/geospatial-learn-course-data/CA_county_population.csv\", index_col=\"GEOID\")\n",
        "CA_high_earners = pd.read_csv(\"../input/geospatial-learn-course-data/CA_county_high_earners.csv\", index_col=\"GEOID\")\n",
        "CA_median_age = pd.read_csv(\"../input/geospatial-learn-course-data/CA_county_median_age.csv\", index_col=\"GEOID\")"
      ],
      "execution_count": null,
      "outputs": []
    },
    {
      "cell_type": "markdown",
      "metadata": {
        "id": "9a0uUw_tRyVx"
      },
      "source": [
        "Use the next code cell to join the `CA_counties` GeoDataFrame with `CA_pop`, `CA_high_earners`, and `CA_median_age`.\n",
        "\n",
        "Name the resultant GeoDataFrame `CA_stats`, and make sure it has 8 columns: \"GEOID\", \"name\", \"area_sqkm\", \"geometry\", \"population\", \"high_earners\", and \"median_age\".  Also, make sure the CRS is set to `{'init': 'epsg:4326'}`."
      ]
    },
    {
      "cell_type": "code",
      "metadata": {
        "execution": {
          "iopub.status.busy": "2021-08-19T02:22:07.743263Z",
          "iopub.execute_input": "2021-08-19T02:22:07.743739Z",
          "iopub.status.idle": "2021-08-19T02:22:07.901807Z",
          "shell.execute_reply.started": "2021-08-19T02:22:07.743697Z",
          "shell.execute_reply": "2021-08-19T02:22:07.900821Z"
        },
        "trusted": true,
        "id": "YrLxokjoRyVx",
        "outputId": "09beb1e0-cbc8-4545-87fb-45893054b266"
      },
      "source": [
        "cols_to_add = CA_pop.join([CA_high_earners, CA_median_age]).reset_index()\n",
        "CA_stats = CA_counties.merge(cols_to_add, on=\"GEOID\")\n"
      ],
      "execution_count": null,
      "outputs": [
        {
          "output_type": "display_data",
          "data": {
            "text/plain": "<IPython.core.display.Javascript object>",
            "application/javascript": "parent.postMessage({\"jupyterEvent\": \"custom.exercise_interaction\", \"data\": {\"outcomeType\": 1, \"valueTowardsCompletion\": 0.2, \"interactionType\": 1, \"questionType\": 2, \"questionId\": \"3_Q3\", \"learnToolsVersion\": \"0.3.4\", \"failureMessage\": \"\", \"exceptionClass\": \"\", \"trace\": \"\"}}, \"*\")"
          },
          "metadata": {}
        },
        {
          "output_type": "display_data",
          "data": {
            "text/plain": "Correct",
            "text/markdown": "<span style=\"color:#33cc33\">Correct</span>"
          },
          "metadata": {}
        }
      ]
    },
    {
      "cell_type": "markdown",
      "metadata": {
        "id": "MfWIh8ZxRyVy"
      },
      "source": [
        "Now that we have all of the data in one place, it's much easier to calculate statistics that use a combination of columns.  Run the next code cell to create a \"density\" column with the population density."
      ]
    },
    {
      "cell_type": "code",
      "metadata": {
        "execution": {
          "iopub.status.busy": "2021-08-19T02:22:07.908617Z",
          "iopub.execute_input": "2021-08-19T02:22:07.909100Z",
          "iopub.status.idle": "2021-08-19T02:22:07.922108Z",
          "shell.execute_reply.started": "2021-08-19T02:22:07.909069Z",
          "shell.execute_reply": "2021-08-19T02:22:07.921179Z"
        },
        "trusted": true,
        "id": "CFSvHvc8RyVy"
      },
      "source": [
        "CA_stats[\"density\"] = CA_stats[\"population\"] / CA_stats[\"area_sqkm\"]"
      ],
      "execution_count": null,
      "outputs": []
    },
    {
      "cell_type": "markdown",
      "metadata": {
        "id": "MN4RT7E8RyVz"
      },
      "source": [
        "### 4) Which counties look promising?\n",
        "\n",
        "Collapsing all of the information into a single GeoDataFrame also makes it much easier to select counties that meet specific criteria.\n",
        "\n",
        "Use the next code cell to create a GeoDataFrame `sel_counties` that contains a subset of the rows (and all of the columns) from the `CA_stats` GeoDataFrame.  In particular, you should select counties where:\n",
        "- there are at least 100,000 households making \\$150,000 per year,\n",
        "- the median age is less than 38.5, and\n",
        "- the density of inhabitants is at least 285 (per square kilometer).\n",
        "\n",
        "Additionally, selected counties should satisfy at least one of the following criteria:\n",
        "- there are at least 500,000 households making \\$150,000 per year,\n",
        "- the median age is less than 35.5, or\n",
        "- the density of inhabitants is at least 1400 (per square kilometer)."
      ]
    },
    {
      "cell_type": "code",
      "metadata": {
        "execution": {
          "iopub.status.busy": "2021-08-19T02:22:07.923287Z",
          "iopub.execute_input": "2021-08-19T02:22:07.923835Z",
          "iopub.status.idle": "2021-08-19T02:22:07.953121Z",
          "shell.execute_reply.started": "2021-08-19T02:22:07.923800Z",
          "shell.execute_reply": "2021-08-19T02:22:07.951936Z"
        },
        "trusted": true,
        "id": "ZUhmnq_MRyVz",
        "outputId": "17f6ac5b-5008-4d69-d040-37a21758d0d5"
      },
      "source": [
        "sel_counties = CA_stats[((CA_stats.high_earners > 100000) &\n",
        "                         (CA_stats.median_age < 38.5) &\n",
        "                         (CA_stats.density > 285) &\n",
        "                         ((CA_stats.median_age < 35.5) |\n",
        "                         (CA_stats.density > 1400) |\n",
        "                         (CA_stats.high_earners > 500000)))]"
      ],
      "execution_count": null,
      "outputs": [
        {
          "output_type": "display_data",
          "data": {
            "text/plain": "<IPython.core.display.Javascript object>",
            "application/javascript": "parent.postMessage({\"jupyterEvent\": \"custom.exercise_interaction\", \"data\": {\"outcomeType\": 1, \"valueTowardsCompletion\": 0.2, \"interactionType\": 1, \"questionType\": 2, \"questionId\": \"4_Q4\", \"learnToolsVersion\": \"0.3.4\", \"failureMessage\": \"\", \"exceptionClass\": \"\", \"trace\": \"\"}}, \"*\")"
          },
          "metadata": {}
        },
        {
          "output_type": "display_data",
          "data": {
            "text/plain": "Correct",
            "text/markdown": "<span style=\"color:#33cc33\">Correct</span>"
          },
          "metadata": {}
        }
      ]
    },
    {
      "cell_type": "markdown",
      "metadata": {
        "id": "vOnVpj7YRyV0"
      },
      "source": [
        "### 5) How many stores did you identify?\n",
        "\n",
        "When looking for the next Starbucks Reserve Roastery location, you'd like to consider all of the stores within the counties that you selected.  So, how many stores are within the selected counties?\n",
        "\n",
        "To prepare to answer this question, run the next code cell to create a GeoDataFrame `starbucks_gdf` with all of the starbucks locations."
      ]
    },
    {
      "cell_type": "code",
      "metadata": {
        "execution": {
          "iopub.status.busy": "2021-08-19T02:22:07.969875Z",
          "iopub.execute_input": "2021-08-19T02:22:07.970355Z",
          "iopub.status.idle": "2021-08-19T02:22:08.031447Z",
          "shell.execute_reply.started": "2021-08-19T02:22:07.970308Z",
          "shell.execute_reply": "2021-08-19T02:22:08.030707Z"
        },
        "trusted": true,
        "id": "n5y1w014RyV0",
        "outputId": "0e3de73c-8ca0-4269-d80e-72b8281efa58"
      },
      "source": [
        "starbucks_gdf = gpd.GeoDataFrame(starbucks, geometry=gpd.points_from_xy(starbucks.Longitude, starbucks.Latitude))\n",
        "starbucks_gdf.crs = {'init': 'epsg:4326'}"
      ],
      "execution_count": null,
      "outputs": [
        {
          "name": "stderr",
          "text": "/opt/conda/lib/python3.7/site-packages/pyproj/crs/crs.py:53: FutureWarning: '+init=<authority>:<code>' syntax is deprecated. '<authority>:<code>' is the preferred initialization method. When making the change, be mindful of axis order changes: https://pyproj4.github.io/pyproj/stable/gotchas.html#axis-order-changes-in-proj-6\n  return _prepare_from_string(\" \".join(pjargs))\n",
          "output_type": "stream"
        }
      ]
    },
    {
      "cell_type": "markdown",
      "metadata": {
        "id": "ylWmOSapRyV0"
      },
      "source": [
        "So, how many stores are in the counties you selected?"
      ]
    },
    {
      "cell_type": "code",
      "metadata": {
        "execution": {
          "iopub.status.busy": "2021-08-19T02:22:08.032998Z",
          "iopub.execute_input": "2021-08-19T02:22:08.033579Z",
          "iopub.status.idle": "2021-08-19T02:22:08.406175Z",
          "shell.execute_reply.started": "2021-08-19T02:22:08.033530Z",
          "shell.execute_reply": "2021-08-19T02:22:08.405015Z"
        },
        "trusted": true,
        "id": "Inf6hgB8RyV0",
        "outputId": "8fe2e53e-4eb4-4167-f36c-8bfd2c100e37"
      },
      "source": [
        "locations_of_interest = gpd.sjoin(starbucks_gdf, sel_counties)\n",
        "num_stores = len(locations_of_interest)"
      ],
      "execution_count": null,
      "outputs": [
        {
          "name": "stderr",
          "text": "/opt/conda/lib/python3.7/site-packages/ipykernel_launcher.py:2: UserWarning: CRS mismatch between the CRS of left geometries and the CRS of right geometries.\nUse `to_crs()` to reproject one of the input geometries to match the CRS of the other.\n\nLeft CRS: +init=epsg:4326 +type=crs\nRight CRS: EPSG:4326\n\n  \n",
          "output_type": "stream"
        },
        {
          "output_type": "display_data",
          "data": {
            "text/plain": "<IPython.core.display.Javascript object>",
            "application/javascript": "parent.postMessage({\"jupyterEvent\": \"custom.exercise_interaction\", \"data\": {\"outcomeType\": 1, \"valueTowardsCompletion\": 0.2, \"interactionType\": 1, \"questionType\": 2, \"questionId\": \"5_Q5\", \"learnToolsVersion\": \"0.3.4\", \"failureMessage\": \"\", \"exceptionClass\": \"\", \"trace\": \"\"}}, \"*\")"
          },
          "metadata": {}
        },
        {
          "output_type": "display_data",
          "data": {
            "text/plain": "Correct",
            "text/markdown": "<span style=\"color:#33cc33\">Correct</span>"
          },
          "metadata": {}
        }
      ]
    },
    {
      "cell_type": "markdown",
      "metadata": {
        "id": "5p_tcdiNRyV1"
      },
      "source": [
        "### 6) Visualize the store locations.\n",
        "\n",
        "Create a map that shows the locations of the stores that you identified in the previous question."
      ]
    },
    {
      "cell_type": "code",
      "metadata": {
        "execution": {
          "iopub.status.busy": "2021-08-19T02:22:08.417691Z",
          "iopub.execute_input": "2021-08-19T02:22:08.417979Z",
          "iopub.status.idle": "2021-08-19T02:22:09.524803Z",
          "shell.execute_reply.started": "2021-08-19T02:22:08.417952Z",
          "shell.execute_reply": "2021-08-19T02:22:09.523766Z"
        },
        "trusted": true,
        "id": "tu4lIsMDRyV2",
        "outputId": "7d1d3467-973e-49a3-d52d-6b3dc2d97baa"
      },
      "source": [
        "# Create a base map\n",
        "m_6 = folium.Map(location=[37,-120], zoom_start=6)\n",
        "\n",
        "#  show selected store locations\n",
        "# Show selected store locations\n",
        "mc = MarkerCluster()\n",
        "\n",
        "locations_of_interest = gpd.sjoin(starbucks_gdf, sel_counties)\n",
        "for idx, row in locations_of_interest.iterrows():\n",
        "    if not math.isnan(row['Longitude']) and not math.isnan(row['Latitude']):\n",
        "        mc.add_child(folium.Marker([row['Latitude'], row['Longitude']]))\n",
        "\n",
        "m_6.add_child(mc)\n",
        "\n",
        "# Show the map\n",
        "embed_map(m_6, 'q_6.html')"
      ],
      "execution_count": null,
      "outputs": [
        {
          "name": "stderr",
          "text": "/opt/conda/lib/python3.7/site-packages/ipykernel_launcher.py:8: UserWarning: CRS mismatch between the CRS of left geometries and the CRS of right geometries.\nUse `to_crs()` to reproject one of the input geometries to match the CRS of the other.\n\nLeft CRS: +init=epsg:4326 +type=crs\nRight CRS: EPSG:4326\n\n  \n",
          "output_type": "stream"
        },
        {
          "execution_count": 48,
          "output_type": "execute_result",
          "data": {
            "text/plain": "<IPython.lib.display.IFrame at 0x7f8d42038f10>",
            "text/html": "\n        <iframe\n            width=\"100%\"\n            height=\"500px\"\n            src=\"q_6.html\"\n            frameborder=\"0\"\n            allowfullscreen\n        ></iframe>\n        "
          },
          "metadata": {}
        }
      ]
    }
  ]
}